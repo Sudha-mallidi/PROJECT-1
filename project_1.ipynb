{
 "cells": [
  {
   "cell_type": "code",
   "execution_count": 3,
   "id": "bb749857-e176-48d0-b91a-c6125ff63fe7",
   "metadata": {},
   "outputs": [
    {
     "name": "stdin",
     "output_type": "stream",
     "text": [
      "Enter a number: 2\n"
     ]
    },
    {
     "name": "stdout",
     "output_type": "stream",
     "text": [
      "+\n",
      "-\n",
      "*\n",
      "/\n",
      "**\n"
     ]
    },
    {
     "name": "stdin",
     "output_type": "stream",
     "text": [
      "pick an operation:  +\n",
      "Enter next number: 7\n"
     ]
    },
    {
     "name": "stdout",
     "output_type": "stream",
     "text": [
      "2 + 7 = 9\n"
     ]
    },
    {
     "name": "stdin",
     "output_type": "stream",
     "text": [
      "enter 'y' to continue calculation with 9 or 'n' to start a new calculation or 'x' to exit:  y\n",
      "pick an operation:  -\n",
      "Enter next number: 1\n"
     ]
    },
    {
     "name": "stdout",
     "output_type": "stream",
     "text": [
      "9 - 1 = 8\n"
     ]
    },
    {
     "name": "stdin",
     "output_type": "stream",
     "text": [
      "enter 'y' to continue calculation with 8 or 'n' to start a new calculation or 'x' to exit:  x\n"
     ]
    },
    {
     "name": "stdout",
     "output_type": "stream",
     "text": [
      "Bye\n"
     ]
    }
   ],
   "source": [
    "import os\n",
    "def add(a,b):\n",
    "    return a+b\n",
    "def subtract(a,b):\n",
    "    return a-b\n",
    "def multiply(a,b):\n",
    "    return a*b\n",
    "def divide(a,b):\n",
    "    return a/b\n",
    "def power(a,b):\n",
    "    return a**b\n",
    "operations_dict={\n",
    "    \"+\":add,\n",
    "    \"-\":subtract,\n",
    "    \"*\":multiply,\n",
    "    \"/\":divide,\n",
    "    \"**\":power\n",
    "    }\n",
    "\n",
    "def calculator():\n",
    "    num1 = int(input(\"Enter a number:\"))\n",
    "    for symbol in operations_dict:\n",
    "        print(symbol)\n",
    "    \n",
    "    continue_flag=True\n",
    "    while continue_flag:\n",
    "        op_symbol = input(\"pick an operation: \")\n",
    "        num2 = int(input(\"Enter next number:\"))\n",
    "        calculator_function=operations_dict[op_symbol]\n",
    "        output=calculator_function(num1,num2)\n",
    "        print(f\"{num1} {op_symbol} {num2} = {output}\")\n",
    "        To_continue=input(f\"enter 'y' to continue calculation with {output} or 'n' to start a new calculation or 'x' to exit: \").lower()\n",
    "        if To_continue=='y':\n",
    "            num1=output\n",
    "        elif To_continue == 'n':\n",
    "            continue_flag=False\n",
    "            os.system('cls')\n",
    "            calculator()\n",
    "        else:\n",
    "            continue_flag=False\n",
    "            print(\"Bye\")\n",
    "calculator()\n"
   ]
  },
  {
   "cell_type": "code",
   "execution_count": null,
   "id": "f8e37e55-8ec8-425c-b879-04c8013555a7",
   "metadata": {},
   "outputs": [],
   "source": []
  }
 ],
 "metadata": {
  "kernelspec": {
   "display_name": "Python 3 (ipykernel)",
   "language": "python",
   "name": "python3"
  },
  "language_info": {
   "codemirror_mode": {
    "name": "ipython",
    "version": 3
   },
   "file_extension": ".py",
   "mimetype": "text/x-python",
   "name": "python",
   "nbconvert_exporter": "python",
   "pygments_lexer": "ipython3",
   "version": "3.12.4"
  }
 },
 "nbformat": 4,
 "nbformat_minor": 5
}
